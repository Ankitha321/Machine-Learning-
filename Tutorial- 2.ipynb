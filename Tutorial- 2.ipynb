{
 "cells": [
  {
   "cell_type": "code",
   "execution_count": 9,
   "metadata": {},
   "outputs": [],
   "source": [
    "import matplotlib.pyplot as plt\n",
    "import numpy as np"
   ]
  },
  {
   "cell_type": "code",
   "execution_count": 10,
   "metadata": {},
   "outputs": [],
   "source": [
    "X=[1,2,3]\n",
    "Y=[1.2,1.9,3.2]"
   ]
  },
  {
   "cell_type": "code",
   "execution_count": 11,
   "metadata": {},
   "outputs": [],
   "source": [
    "def best_line_maximum_likelihood_function(X,Y):\n",
    "  A=np.sum(Y)\n",
    "  B=np.sum(X)\n",
    "  N=len(X)\n",
    "  C=np.dot(X,Y)\n",
    "  D=np.dot(X,X)\n",
    "\n",
    "  w1 = (C*N - A*B) / (N*D - B*B)\n",
    "  w0 = (A-B*w1) / N \n",
    "  return [w0,w1]"
   ]
  },
  {
   "cell_type": "code",
   "execution_count": 16,
   "metadata": {},
   "outputs": [
    {
     "data": {
      "text/plain": [
       "[<matplotlib.lines.Line2D at 0x1b8a2ea67f0>]"
      ]
     },
     "execution_count": 16,
     "metadata": {},
     "output_type": "execute_result"
    },
    {
     "data": {
      "image/png": "[encoded data removed]",
      "text/plain": [
       "<Figure size 432x288 with 1 Axes>"
      ]
     },
     "metadata": {
      "needs_background": "light"
     },
     "output_type": "display_data"
    }
   ],
   "source": [
    "w0,w1=best_line_maximum_likelihood_function(X,Y)\n",
    "y_points=[]\n",
    "for i in range(len(X)):\n",
    "  y_points.append(w0+w1*X[i])\n",
    "plt.scatter(X,Y,c='red')\n",
    "plt.plot(X,y_points,c='green')"
   ]
  },
  {
   "cell_type": "code",
   "execution_count": null,
   "metadata": {},
   "outputs": [],
   "source": []
  }
 ],
 "metadata": {
  "kernelspec": {
   "display_name": "Python 3",
   "language": "python",
   "name": "python3"
  },
  "language_info": {
   "codemirror_mode": {
    "name": "ipython",
    "version": 3
   },
   "file_extension": ".py",
   "mimetype": "text/x-python",
   "name": "python",
   "nbconvert_exporter": "python",
   "pygments_lexer": "ipython3",
   "version": "3.8.3"
  }
 },
 "nbformat": 4,
 "nbformat_minor": 4
}
